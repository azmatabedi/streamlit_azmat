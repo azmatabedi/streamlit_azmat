{
 "cells": [
  {
   "cell_type": "code",
   "execution_count": 1,
   "id": "b3ffc8a6",
   "metadata": {},
   "outputs": [],
   "source": [
    "import pandas as pd"
   ]
  },
  {
   "cell_type": "code",
   "execution_count": 37,
   "id": "b93f1a25",
   "metadata": {},
   "outputs": [],
   "source": [
    "df=pd.read_csv('load.csv')"
   ]
  },
  {
   "cell_type": "code",
   "execution_count": 38,
   "id": "5f073665",
   "metadata": {},
   "outputs": [],
   "source": [
    "df=df.drop(['Unnamed: 0'],axis=1)"
   ]
  },
  {
   "cell_type": "code",
   "execution_count": 39,
   "id": "47c30b89",
   "metadata": {},
   "outputs": [],
   "source": [
    "group_by=df.groupby(['issues','sub_issue']).count()"
   ]
  },
  {
   "cell_type": "code",
   "execution_count": 40,
   "id": "beafa8fc",
   "metadata": {},
   "outputs": [
    {
     "data": {
      "text/html": [
       "<div>\n",
       "<style scoped>\n",
       "    .dataframe tbody tr th:only-of-type {\n",
       "        vertical-align: middle;\n",
       "    }\n",
       "\n",
       "    .dataframe tbody tr th {\n",
       "        vertical-align: top;\n",
       "    }\n",
       "\n",
       "    .dataframe thead th {\n",
       "        text-align: right;\n",
       "    }\n",
       "</style>\n",
       "<table border=\"1\" class=\"dataframe\">\n",
       "  <thead>\n",
       "    <tr style=\"text-align: right;\">\n",
       "      <th></th>\n",
       "      <th>products</th>\n",
       "      <th>issues</th>\n",
       "      <th>sub_products</th>\n",
       "      <th>compliant_ids</th>\n",
       "      <th>timely</th>\n",
       "      <th>company_respopnse</th>\n",
       "      <th>comapnys</th>\n",
       "      <th>date_recive</th>\n",
       "      <th>state</th>\n",
       "      <th>sub_issue</th>\n",
       "    </tr>\n",
       "    <tr>\n",
       "      <th>submitted_via</th>\n",
       "      <th></th>\n",
       "      <th></th>\n",
       "      <th></th>\n",
       "      <th></th>\n",
       "      <th></th>\n",
       "      <th></th>\n",
       "      <th></th>\n",
       "      <th></th>\n",
       "      <th></th>\n",
       "      <th></th>\n",
       "    </tr>\n",
       "  </thead>\n",
       "  <tbody>\n",
       "    <tr>\n",
       "      <th>Phone</th>\n",
       "      <td>1740</td>\n",
       "      <td>1740</td>\n",
       "      <td>1740</td>\n",
       "      <td>1740</td>\n",
       "      <td>1740</td>\n",
       "      <td>1740</td>\n",
       "      <td>1740</td>\n",
       "      <td>1740</td>\n",
       "      <td>1740</td>\n",
       "      <td>1461</td>\n",
       "    </tr>\n",
       "    <tr>\n",
       "      <th>Postal mail</th>\n",
       "      <td>306</td>\n",
       "      <td>306</td>\n",
       "      <td>306</td>\n",
       "      <td>306</td>\n",
       "      <td>306</td>\n",
       "      <td>306</td>\n",
       "      <td>306</td>\n",
       "      <td>306</td>\n",
       "      <td>306</td>\n",
       "      <td>273</td>\n",
       "    </tr>\n",
       "    <tr>\n",
       "      <th>Referral</th>\n",
       "      <td>750</td>\n",
       "      <td>750</td>\n",
       "      <td>750</td>\n",
       "      <td>750</td>\n",
       "      <td>750</td>\n",
       "      <td>750</td>\n",
       "      <td>750</td>\n",
       "      <td>750</td>\n",
       "      <td>750</td>\n",
       "      <td>636</td>\n",
       "    </tr>\n",
       "    <tr>\n",
       "      <th>Web</th>\n",
       "      <td>74652</td>\n",
       "      <td>74652</td>\n",
       "      <td>74652</td>\n",
       "      <td>74652</td>\n",
       "      <td>74652</td>\n",
       "      <td>74652</td>\n",
       "      <td>74652</td>\n",
       "      <td>74652</td>\n",
       "      <td>74652</td>\n",
       "      <td>70755</td>\n",
       "    </tr>\n",
       "    <tr>\n",
       "      <th>Web Referral</th>\n",
       "      <td>120</td>\n",
       "      <td>120</td>\n",
       "      <td>120</td>\n",
       "      <td>120</td>\n",
       "      <td>120</td>\n",
       "      <td>120</td>\n",
       "      <td>120</td>\n",
       "      <td>120</td>\n",
       "      <td>120</td>\n",
       "      <td>105</td>\n",
       "    </tr>\n",
       "  </tbody>\n",
       "</table>\n",
       "</div>"
      ],
      "text/plain": [
       "               products  issues  sub_products  compliant_ids  timely  \\\n",
       "submitted_via                                                          \n",
       "Phone              1740    1740          1740           1740    1740   \n",
       "Postal mail         306     306           306            306     306   \n",
       "Referral            750     750           750            750     750   \n",
       "Web               74652   74652         74652          74652   74652   \n",
       "Web Referral        120     120           120            120     120   \n",
       "\n",
       "               company_respopnse  comapnys  date_recive  state  sub_issue  \n",
       "submitted_via                                                              \n",
       "Phone                       1740      1740         1740   1740       1461  \n",
       "Postal mail                  306       306          306    306        273  \n",
       "Referral                     750       750          750    750        636  \n",
       "Web                        74652     74652        74652  74652      70755  \n",
       "Web Referral                 120       120          120    120        105  "
      ]
     },
     "execution_count": 40,
     "metadata": {},
     "output_type": "execute_result"
    }
   ],
   "source": [
    "group_by"
   ]
  }
 ],
 "metadata": {
  "kernelspec": {
   "display_name": "Python 3 (ipykernel)",
   "language": "python",
   "name": "python3"
  },
  "language_info": {
   "codemirror_mode": {
    "name": "ipython",
    "version": 3
   },
   "file_extension": ".py",
   "mimetype": "text/x-python",
   "name": "python",
   "nbconvert_exporter": "python",
   "pygments_lexer": "ipython3",
   "version": "3.10.9"
  }
 },
 "nbformat": 4,
 "nbformat_minor": 5
}
